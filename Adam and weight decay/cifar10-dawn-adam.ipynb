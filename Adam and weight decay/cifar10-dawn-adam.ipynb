{
 "cells": [
  {
   "cell_type": "markdown",
   "metadata": {},
   "source": [
    "## CIFAR 10"
   ]
  },
  {
   "cell_type": "code",
   "execution_count": 2,
   "metadata": {},
   "outputs": [],
   "source": [
    "%matplotlib inline\n",
    "%reload_ext autoreload\n",
    "%autoreload 2"
   ]
  },
  {
   "cell_type": "code",
   "execution_count": 3,
   "metadata": {},
   "outputs": [],
   "source": [
    "from fastai.conv_learner import *\n",
    "from fastai.models.cifar10.wideresnet import wrn_22\n",
    "torch.backends.cudnn.benchmark = True\n",
    "PATH = Path(\"../data/cifar10/\")\n",
    "os.makedirs(PATH,exist_ok=True)"
   ]
  },
  {
   "cell_type": "code",
   "execution_count": 4,
   "metadata": {},
   "outputs": [],
   "source": [
    "classes = ['airplane', 'automobile', 'bird', 'cat', 'deer', 'dog', 'frog', 'horse', 'ship', 'truck']\n",
    "stats = (np.array([ 0.4914 ,  0.48216,  0.44653]), np.array([ 0.24703,  0.24349,  0.26159]))\n",
    "\n",
    "bs=128\n",
    "sz=32"
   ]
  },
  {
   "cell_type": "code",
   "execution_count": 5,
   "metadata": {},
   "outputs": [],
   "source": [
    "tfms = tfms_from_stats(stats, sz, aug_tfms=[RandomCrop(sz), RandomFlip()], pad=sz//8)\n",
    "data = ImageClassifierData.from_paths(PATH, val_name='test', tfms=tfms, bs=bs)"
   ]
  },
  {
   "cell_type": "markdown",
   "metadata": {},
   "source": [
    "Here is a benchmark with SGD (usually giver result between 93.7% and 94% accuracy)"
   ]
  },
  {
   "cell_type": "code",
   "execution_count": 6,
   "metadata": {},
   "outputs": [],
   "source": [
    "m = wrn_22()\n",
    "learn = ConvLearner.from_model_data(m, data)\n",
    "learn.crit = nn.CrossEntropyLoss()\n",
    "learn.metrics = [accuracy]\n",
    "wd=1e-4\n",
    "lr = 1.5"
   ]
  },
  {
   "cell_type": "code",
   "execution_count": 6,
   "metadata": {},
   "outputs": [
    {
     "data": {
      "application/vnd.jupyter.widget-view+json": {
       "model_id": "0b35a7e83fdb43aca562cd01816c6703",
       "version_major": 2,
       "version_minor": 0
      },
      "text/plain": [
       "HBox(children=(IntProgress(value=0, description='Epoch', max=30), HTML(value='')))"
      ]
     },
     "metadata": {},
     "output_type": "display_data"
    },
    {
     "name": "stdout",
     "output_type": "stream",
     "text": [
      "epoch      trn_loss   val_loss   accuracy                   \n",
      "    0      1.216645   1.259887   0.5643    \n",
      "    1      0.853854   0.969285   0.6612                      \n",
      "    2      0.687803   1.179437   0.6241                      \n",
      "    3      0.636611   0.96003    0.7075                      \n",
      "    4      0.62562    0.645824   0.7792                      \n",
      "    5      0.571705   0.942082   0.7031                      \n",
      "    6      0.552434   0.77476    0.7599                      \n",
      "    7      0.560228   0.688986   0.7645                      \n",
      "    8      0.56225    1.016748   0.6826                      \n",
      "    9      0.56433    0.653457   0.7712                      \n",
      "    10     0.557705   0.832278   0.7108                      \n",
      "    11     0.543039   0.738017   0.748                       \n",
      "    12     0.550496   1.715083   0.5527                      \n",
      "    13     0.543904   0.855024   0.7357                      \n",
      "    14     0.491703   0.723532   0.7545                      \n",
      "    15     0.506598   0.732416   0.7581                      \n",
      "    16     0.491522   0.784968   0.7524                      \n",
      "    17     0.480961   0.75163    0.767                       \n",
      "    18     0.45956    0.563675   0.8037                      \n",
      "    19     0.42435    0.591349   0.8051                      \n",
      "    20     0.409428   0.617144   0.7988                      \n",
      "    21     0.346272   0.590269   0.813                       \n",
      "    22     0.283845   0.430121   0.8595                      \n",
      "    23     0.213889   0.272978   0.908                       \n",
      "    24     0.168362   0.252975   0.9149                      \n",
      "    25     0.141648   0.264489   0.9145                      \n",
      "    26     0.114475   0.218968   0.929                       \n",
      "    27     0.09274    0.219989   0.9273                       \n",
      "    28     0.072489   0.202389   0.9342                       \n",
      "    29     0.057701   0.192843   0.9377                       \n",
      "\n",
      "CPU times: user 23min 8s, sys: 13min 54s, total: 37min 2s\n",
      "Wall time: 21min 38s\n"
     ]
    },
    {
     "data": {
      "text/plain": [
       "[0.19284258441925048, 0.9377]"
      ]
     },
     "execution_count": 6,
     "metadata": {},
     "output_type": "execute_result"
    }
   ],
   "source": [
    "%time learn.fit(lr, 1, wds=wd, cycle_len=30, use_clr_beta=(20,20,0.95,0.85))"
   ]
  },
  {
   "cell_type": "markdown",
   "metadata": {},
   "source": [
    "Let's try Adam now."
   ]
  },
  {
   "cell_type": "code",
   "execution_count": 6,
   "metadata": {},
   "outputs": [],
   "source": [
    "m = wrn_22()\n",
    "learn = ConvLearner.from_model_data(m, data)\n",
    "learn.crit = nn.CrossEntropyLoss()\n",
    "learn.metrics = [accuracy]\n",
    "wd=1e-4\n",
    "learn.opt_fn = optim.Adam"
   ]
  },
  {
   "cell_type": "code",
   "execution_count": 12,
   "metadata": {},
   "outputs": [],
   "source": [
    "learn.save('init')"
   ]
  },
  {
   "cell_type": "markdown",
   "metadata": {},
   "source": [
    "First with L2 regularization"
   ]
  },
  {
   "cell_type": "code",
   "execution_count": 7,
   "metadata": {},
   "outputs": [
    {
     "data": {
      "application/vnd.jupyter.widget-view+json": {
       "model_id": "b60fd8ca9c7942b28e74da6ba8ed5825",
       "version_major": 2,
       "version_minor": 0
      },
      "text/plain": [
       "HBox(children=(IntProgress(value=0, description='Epoch', max=1), HTML(value='')))"
      ]
     },
     "metadata": {},
     "output_type": "display_data"
    },
    {
     "name": "stdout",
     "output_type": "stream",
     "text": [
      " 87%|████████▋ | 342/391 [00:39<00:05,  8.76it/s, loss=7.21]"
     ]
    }
   ],
   "source": [
    "learn.lr_find(wds=wd)"
   ]
  },
  {
   "cell_type": "code",
   "execution_count": 8,
   "metadata": {},
   "outputs": [
    {
     "data": {
      "image/png": "[encoded data removed]",
      "text/plain": [
       "<Figure size 432x288 with 1 Axes>"
      ]
     },
     "metadata": {},
     "output_type": "display_data"
    },
    {
     "name": "stdout",
     "output_type": "stream",
     "text": [
      "\r",
      " 87%|████████▋ | 342/391 [00:50<00:07,  6.84it/s, loss=7.21]"
     ]
    }
   ],
   "source": [
    "learn.sched.plot()"
   ]
  },
  {
   "cell_type": "code",
   "execution_count": 7,
   "metadata": {},
   "outputs": [],
   "source": [
    "lr = 3e-3"
   ]
  },
  {
   "cell_type": "code",
   "execution_count": 10,
   "metadata": {},
   "outputs": [
    {
     "data": {
      "application/vnd.jupyter.widget-view+json": {
       "model_id": "63764acbc4b347a6b80d4a8265c52b7e",
       "version_major": 2,
       "version_minor": 0
      },
      "text/plain": [
       "HBox(children=(IntProgress(value=0, description='Epoch', max=30), HTML(value='')))"
      ]
     },
     "metadata": {},
     "output_type": "display_data"
    },
    {
     "name": "stdout",
     "output_type": "stream",
     "text": [
      "epoch      trn_loss   val_loss   accuracy                   \n",
      "    0      1.076742   1.182316   0.5825    \n",
      "    1      0.83687    0.842856   0.7071                      \n",
      "    2      0.682173   0.929566   0.6896                      \n",
      "    3      0.601082   0.725022   0.7524                      \n",
      "    4      0.54762    0.739814   0.7556                      \n",
      "    5      0.51929    0.610697   0.7994                      \n",
      "    6      0.496448   0.656585   0.7864                      \n",
      "    7      0.465956   0.555234   0.8131                      \n",
      "    8      0.450089   0.540128   0.8175                      \n",
      "    9      0.428163   0.574992   0.8085                      \n",
      "    10     0.427882   0.530888   0.8178                      \n",
      "    11     0.433119   0.613594   0.7999                      \n",
      "    12     0.417986   0.473321   0.8451                      \n",
      "    13     0.413969   0.486008   0.8416                      \n",
      "    14     0.3866     0.570762   0.8122                      \n",
      "    15     0.370618   0.455578   0.8434                      \n",
      "    16     0.350261   0.580138   0.8106                      \n",
      "    17     0.322129   0.449521   0.855                       \n",
      "    18     0.305998   0.398932   0.8647                      \n",
      "    19     0.284906   0.329863   0.8913                      \n",
      "    20     0.278013   0.331617   0.8886                      \n",
      "    21     0.238639   0.337632   0.8879                      \n",
      "    22     0.217692   0.303117   0.9031                      \n",
      "    23     0.187898   0.307727   0.8999                      \n",
      "    24     0.170971   0.274151   0.9134                      \n",
      "    25     0.146643   0.264091   0.9144                      \n",
      "    26     0.121976   0.249229   0.922                       \n",
      "    27     0.092041   0.247159   0.9244                       \n",
      "    28     0.074198   0.2466     0.9289                       \n",
      "    29     0.05892    0.241488   0.9294                       \n",
      "\n",
      "CPU times: user 24min 24s, sys: 13min 55s, total: 38min 19s\n",
      "Wall time: 23min 1s\n"
     ]
    },
    {
     "data": {
      "text/plain": [
       "[0.2414883628845215, 0.9294]"
      ]
     },
     "execution_count": 10,
     "metadata": {},
     "output_type": "execute_result"
    }
   ],
   "source": [
    "learn.load('init')\n",
    "%time learn.fit(lr, 1, wds=wd, cycle_len=30, use_clr_beta=(10,7.5,0.95,0.85))"
   ]
  },
  {
   "cell_type": "code",
   "execution_count": 12,
   "metadata": {},
   "outputs": [],
   "source": [
    "val_l2 = learn.sched.val_losses\n",
    "met_l2 = learn.sched.rec_metrics"
   ]
  },
  {
   "cell_type": "markdown",
   "metadata": {},
   "source": [
    "Now let's do weight decay."
   ]
  },
  {
   "cell_type": "code",
   "execution_count": 16,
   "metadata": {},
   "outputs": [
    {
     "data": {
      "application/vnd.jupyter.widget-view+json": {
       "model_id": "c2362bc063b54ae08fad9fd8bf370d89",
       "version_major": 2,
       "version_minor": 0
      },
      "text/plain": [
       "HBox(children=(IntProgress(value=0, description='Epoch', max=1), HTML(value='')))"
      ]
     },
     "metadata": {},
     "output_type": "display_data"
    },
    {
     "name": "stdout",
     "output_type": "stream",
     "text": [
      "  1%|          | 2/391 [00:01<03:38,  1.78it/s, loss=2.3] \n",
      "epoch      trn_loss   val_loss   accuracy                   \n",
      "    0      6.598559   239749.1965 0.1       \n",
      "\n"
     ]
    }
   ],
   "source": [
    "learn.load('init')\n",
    "learn.lr_find(wds=wd, use_wd_sched=True)"
   ]
  },
  {
   "cell_type": "code",
   "execution_count": 20,
   "metadata": {},
   "outputs": [
    {
     "data": {
      "image/png": "[encoded data removed]",
      "text/plain": [
       "<Figure size 432x288 with 1 Axes>"
      ]
     },
     "metadata": {},
     "output_type": "display_data"
    }
   ],
   "source": [
    "learn.sched.plot(10,20)"
   ]
  },
  {
   "cell_type": "markdown",
   "metadata": {},
   "source": [
    "The same learning rate seems to work well."
   ]
  },
  {
   "cell_type": "code",
   "execution_count": 14,
   "metadata": {},
   "outputs": [
    {
     "data": {
      "application/vnd.jupyter.widget-view+json": {
       "model_id": "87517933749744429e5161b1a2f179c9",
       "version_major": 2,
       "version_minor": 0
      },
      "text/plain": [
       "HBox(children=(IntProgress(value=0, description='Epoch', max=30), HTML(value='')))"
      ]
     },
     "metadata": {},
     "output_type": "display_data"
    },
    {
     "name": "stdout",
     "output_type": "stream",
     "text": [
      "epoch      trn_loss   val_loss   accuracy                   \n",
      "    0      1.066326   1.167119   0.5846    \n",
      "    1      0.792451   0.971609   0.6661                      \n",
      "    2      0.659506   0.720823   0.7552                      \n",
      "    3      0.575499   0.639338   0.7809                      \n",
      "    4      0.492047   0.508459   0.8246                      \n",
      "    5      0.457091   0.674946   0.7819                      \n",
      "    6      0.426951   0.492419   0.8362                      \n",
      "    7      0.39474    0.503642   0.8332                      \n",
      "    8      0.38039    0.513071   0.8259                      \n",
      "    9      0.348871   0.382703   0.8714                      \n",
      "    10     0.331633   0.398382   0.8689                      \n",
      "    11     0.315192   0.411594   0.8648                      \n",
      "    12     0.288207   0.445722   0.8592                      \n",
      "    13     0.280894   0.432954   0.8647                      \n",
      "    14     0.239715   0.366404   0.8823                      \n",
      "    15     0.224879   0.341679   0.8925                      \n",
      "    16     0.183143   0.314779   0.9001                      \n",
      "    17     0.165268   0.285621   0.9091                      \n",
      "    18     0.145847   0.283293   0.9114                      \n",
      "    19     0.121995   0.270738   0.9188                      \n",
      "    20     0.099101   0.268002   0.9202                       \n",
      "    21     0.089904   0.298085   0.9134                       \n",
      "    22     0.066533   0.266249   0.9265                       \n",
      "    23     0.06057    0.265267   0.9277                       \n",
      "    24     0.041271   0.295592   0.925                        \n",
      "    25     0.027424   0.269305   0.9337                       \n",
      "    26     0.020654   0.268233   0.9361                       \n",
      "    27     0.013858   0.275226   0.9363                       \n",
      "    28     0.014642   0.266241   0.9388                       \n",
      "    29     0.009809   0.267421   0.9402                        \n",
      "\n",
      "CPU times: user 24min 1s, sys: 13min 56s, total: 37min 58s\n",
      "Wall time: 22min 39s\n"
     ]
    },
    {
     "data": {
      "text/plain": [
       "[0.2674214375495911, 0.9402]"
      ]
     },
     "execution_count": 14,
     "metadata": {},
     "output_type": "execute_result"
    }
   ],
   "source": [
    "learn.load('init')\n",
    "%time learn.fit(lr, 1, wds=wd, cycle_len=30, use_clr_beta=(10,7.5,0.95,0.85), use_wd_sched=True)"
   ]
  },
  {
   "cell_type": "markdown",
   "metadata": {},
   "source": [
    "And here is the last 1% accuracy! We also get to 93% in 26 when it took 30 for the L2 reg."
   ]
  },
  {
   "cell_type": "code",
   "execution_count": 15,
   "metadata": {},
   "outputs": [],
   "source": [
    "val_wd = learn.sched.val_losses\n",
    "met_wd = learn.sched.rec_metrics"
   ]
  },
  {
   "cell_type": "code",
   "execution_count": 16,
   "metadata": {},
   "outputs": [],
   "source": [
    "epochs = list(range(1,31))"
   ]
  },
  {
   "cell_type": "code",
   "execution_count": 20,
   "metadata": {},
   "outputs": [
    {
     "data": {
      "text/plain": [
       "<matplotlib.legend.Legend at 0x7fc7c00dfe48>"
      ]
     },
     "execution_count": 20,
     "metadata": {},
     "output_type": "execute_result"
    },
    {
     "data": {
      "image/png": "[encoded data removed]",
      "text/plain": [
       "<Figure size 432x288 with 1 Axes>"
      ]
     },
     "metadata": {},
     "output_type": "display_data"
    }
   ],
   "source": [
    "fig, ax = plt.subplots(1,1)\n",
    "ax.plot(epochs, val_wd, label='wd')\n",
    "ax.plot(epochs, val_l2, label='L2')\n",
    "ax.legend(loc='upper right')"
   ]
  },
  {
   "cell_type": "code",
   "execution_count": 23,
   "metadata": {},
   "outputs": [
    {
     "data": {
      "text/plain": [
       "<matplotlib.legend.Legend at 0x7fc7ac1fbfd0>"
      ]
     },
     "execution_count": 23,
     "metadata": {},
     "output_type": "execute_result"
    },
    {
     "data": {
      "image/png": "[encoded data removed]",
      "text/plain": [
       "<Figure size 432x288 with 1 Axes>"
      ]
     },
     "metadata": {},
     "output_type": "display_data"
    }
   ],
   "source": [
    "fig, ax = plt.subplots(1,1)\n",
    "ax.plot(epochs, met_wd, label='wd')\n",
    "ax.plot(epochs, met_l2, label='L2')\n",
    "ax.legend(loc='lower right')"
   ]
  },
  {
   "cell_type": "markdown",
   "metadata": {},
   "source": [
    "Now let's see how fast we can be to train the model to 94% accuracy! Tests showed that Adam works even better with the 1cycle policy if we lower the parameter beta2 to 0.99."
   ]
  },
  {
   "cell_type": "code",
   "execution_count": 35,
   "metadata": {},
   "outputs": [
    {
     "data": {
      "application/vnd.jupyter.widget-view+json": {
       "model_id": "cf4098caf62b496f90a7c5cdc1f1bc34",
       "version_major": 2,
       "version_minor": 0
      },
      "text/plain": [
       "HBox(children=(IntProgress(value=0, description='Epoch', max=18), HTML(value='')))"
      ]
     },
     "metadata": {},
     "output_type": "display_data"
    },
    {
     "name": "stdout",
     "output_type": "stream",
     "text": [
      "epoch      trn_loss   val_loss   accuracy                   \n",
      "    0      1.073214   1.171766   0.5828    \n",
      "    1      0.834694   0.904318   0.6898                      \n",
      "    2      0.687177   0.784865   0.7437                      \n",
      "    3      0.614023   0.619249   0.785                       \n",
      "    4      0.5311     0.590406   0.8033                      \n",
      "    5      0.476569   0.522703   0.8216                      \n",
      "    6      0.439261   0.701453   0.7848                      \n",
      "    7      0.410962   0.476661   0.8426                      \n",
      "    8      0.367179   0.418149   0.863                       \n",
      "    9      0.312993   0.374211   0.8724                      \n",
      "    10     0.25478    0.322047   0.892                       \n",
      "    11     0.214415   0.330291   0.8924                      \n",
      "    12     0.17795    0.290726   0.9078                      \n",
      "    13     0.146597   0.260588   0.9181                      \n",
      "    14     0.104471   0.251844   0.925                       \n",
      "    15     0.088235   0.249716   0.9284                       \n",
      "    16     0.063446   0.242293   0.9322                       \n",
      "    17     0.047149   0.241929   0.9361                       \n",
      "\n",
      "CPU times: user 13min 53s, sys: 8min 9s, total: 22min 3s\n",
      "Wall time: 13min 10s\n"
     ]
    },
    {
     "data": {
      "text/plain": [
       "[0.241928644323349, 0.9361]"
      ]
     },
     "execution_count": 35,
     "metadata": {},
     "output_type": "execute_result"
    }
   ],
   "source": [
    "learn.load('init')\n",
    "learn.opt_fn = partial(optim.Adam, betas=(0.95,0.99))\n",
    "%time learn.fit(lr, 1, wds=wd, cycle_len=18, use_clr_beta=(10,7.5,0.95,0.85), use_wd_sched=True)"
   ]
  },
  {
   "cell_type": "code",
   "execution_count": 36,
   "metadata": {},
   "outputs": [],
   "source": [
    "def accuracy_with_TTA(learn):\n",
    "    preds, targs = learn.TTA()\n",
    "    probs = np.mean(np.exp(preds),0)\n",
    "    return accuracy_np(probs, targs)"
   ]
  },
  {
   "cell_type": "code",
   "execution_count": 37,
   "metadata": {},
   "outputs": [
    {
     "name": "stdout",
     "output_type": "stream",
     "text": [
      "                                             \r"
     ]
    },
    {
     "data": {
      "text/plain": [
       "0.939"
      ]
     },
     "execution_count": 37,
     "metadata": {},
     "output_type": "execute_result"
    }
   ],
   "source": [
    "accuracy_with_TTA(learn)"
   ]
  },
  {
   "cell_type": "markdown",
   "metadata": {},
   "source": []
  }
 ],
 "metadata": {
  "kernelspec": {
   "display_name": "Python 3",
   "language": "python",
   "name": "python3"
  },
  "language_info": {
   "codemirror_mode": {
    "name": "ipython",
    "version": 3
   },
   "file_extension": ".py",
   "mimetype": "text/x-python",
   "name": "python",
   "nbconvert_exporter": "python",
   "pygments_lexer": "ipython3",
   "version": "3.6.5"
  },
  "toc": {
   "colors": {
    "hover_highlight": "#DAA520",
    "navigate_num": "#000000",
    "navigate_text": "#333333",
    "running_highlight": "#FF0000",
    "selected_highlight": "#FFD700",
    "sidebar_border": "#EEEEEE",
    "wrapper_background": "#FFFFFF"
   },
   "moveMenuLeft": true,
   "nav_menu": {
    "height": "266px",
    "width": "252px"
   },
   "navigate_menu": true,
   "number_sections": true,
   "sideBar": true,
   "threshold": 4,
   "toc_cell": false,
   "toc_section_display": "block",
   "toc_window_display": false,
   "widenNotebook": false
  }
 },
 "nbformat": 4,
 "nbformat_minor": 2
}
